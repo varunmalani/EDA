{
 "cells": [
  {
   "cell_type": "markdown",
   "metadata": {
    "id": "7z4vCLgDpgCZ"
   },
   "source": [
    "### EDA TO BE PERFORMED\n",
    "- Get rid of extra columns\n",
    "- Get rid of bullet points in Used Name\n",
    "- Parse out dates from Born and Died column\n",
    "- Parse out city, and country from Born column\n",
    "- Split Height/Weight"
   ]
  },
  {
   "cell_type": "code",
   "execution_count": 1,
   "metadata": {
    "id": "E00DbLs7pq9f"
   },
   "outputs": [],
   "source": [
    "import pandas as pd\n",
    "import numpy as np"
   ]
  },
  {
   "cell_type": "code",
   "execution_count": 2,
   "metadata": {
    "colab": {
     "base_uri": "https://localhost:8080/",
     "height": 598
    },
    "id": "rFc5qgWxp394",
    "outputId": "46b4091f-d318-431f-cd7d-ca3fb8e8ce3a"
   },
   "outputs": [
    {
     "data": {
      "text/html": [
       "<div>\n",
       "<style scoped>\n",
       "    .dataframe tbody tr th:only-of-type {\n",
       "        vertical-align: middle;\n",
       "    }\n",
       "\n",
       "    .dataframe tbody tr th {\n",
       "        vertical-align: top;\n",
       "    }\n",
       "\n",
       "    .dataframe thead th {\n",
       "        text-align: right;\n",
       "    }\n",
       "</style>\n",
       "<table border=\"1\" class=\"dataframe\">\n",
       "  <thead>\n",
       "    <tr style=\"text-align: right;\">\n",
       "      <th></th>\n",
       "      <th>Roles</th>\n",
       "      <th>Sex</th>\n",
       "      <th>Full name</th>\n",
       "      <th>Used name</th>\n",
       "      <th>Born</th>\n",
       "      <th>Died</th>\n",
       "      <th>NOC</th>\n",
       "      <th>athlete_id</th>\n",
       "      <th>Measurements</th>\n",
       "      <th>Affiliations</th>\n",
       "      <th>Nick/petnames</th>\n",
       "      <th>Title(s)</th>\n",
       "      <th>Other names</th>\n",
       "      <th>Nationality</th>\n",
       "      <th>Original name</th>\n",
       "      <th>Name order</th>\n",
       "    </tr>\n",
       "  </thead>\n",
       "  <tbody>\n",
       "    <tr>\n",
       "      <th>0</th>\n",
       "      <td>Competed in Olympic Games</td>\n",
       "      <td>Male</td>\n",
       "      <td>François Joseph Marie Antoine \"Jean-François\"•...</td>\n",
       "      <td>Jean-François•Blanchy</td>\n",
       "      <td>12 December 1886 in Bordeaux, Gironde (FRA)</td>\n",
       "      <td>2 October 1960 in Saint-Jean-de-Luz, Pyrénées-...</td>\n",
       "      <td>France</td>\n",
       "      <td>1</td>\n",
       "      <td>NaN</td>\n",
       "      <td>NaN</td>\n",
       "      <td>NaN</td>\n",
       "      <td>NaN</td>\n",
       "      <td>NaN</td>\n",
       "      <td>NaN</td>\n",
       "      <td>NaN</td>\n",
       "      <td>NaN</td>\n",
       "    </tr>\n",
       "    <tr>\n",
       "      <th>1</th>\n",
       "      <td>Competed in Olympic Games</td>\n",
       "      <td>Male</td>\n",
       "      <td>Arnaud Benjamin•Boetsch</td>\n",
       "      <td>Arnaud•Boetsch</td>\n",
       "      <td>1 April 1969 in Meulan, Yvelines (FRA)</td>\n",
       "      <td>NaN</td>\n",
       "      <td>France</td>\n",
       "      <td>2</td>\n",
       "      <td>183 cm / 76 kg</td>\n",
       "      <td>Racing Club de France, Paris (FRA)</td>\n",
       "      <td>NaN</td>\n",
       "      <td>NaN</td>\n",
       "      <td>NaN</td>\n",
       "      <td>NaN</td>\n",
       "      <td>NaN</td>\n",
       "      <td>NaN</td>\n",
       "    </tr>\n",
       "    <tr>\n",
       "      <th>2</th>\n",
       "      <td>Competed in Olympic Games • Administrator</td>\n",
       "      <td>Male</td>\n",
       "      <td>Jean Laurent Robert•Borotra</td>\n",
       "      <td>Jean•Borotra</td>\n",
       "      <td>13 August 1898 in Biarritz, Pyrénées-Atlantiqu...</td>\n",
       "      <td>17 July 1994 in Arbonne, Pyrénées-Atlantiques ...</td>\n",
       "      <td>France</td>\n",
       "      <td>3</td>\n",
       "      <td>183 cm / 76 kg</td>\n",
       "      <td>TCP, Paris (FRA)</td>\n",
       "      <td>Le Basque Bondissant (The Bounding Basque)</td>\n",
       "      <td>NaN</td>\n",
       "      <td>NaN</td>\n",
       "      <td>NaN</td>\n",
       "      <td>NaN</td>\n",
       "      <td>NaN</td>\n",
       "    </tr>\n",
       "    <tr>\n",
       "      <th>3</th>\n",
       "      <td>Competed in Olympic Games</td>\n",
       "      <td>Male</td>\n",
       "      <td>Jacques Marie Stanislas Jean•Brugnon</td>\n",
       "      <td>Jacques•Brugnon</td>\n",
       "      <td>11 May 1895 in Paris VIIIe, Paris (FRA)</td>\n",
       "      <td>20 March 1978 in Monaco, Monaco (MON)</td>\n",
       "      <td>France</td>\n",
       "      <td>4</td>\n",
       "      <td>168 cm / 64 kg</td>\n",
       "      <td>Sporting club de Paris, Paris (FRA)</td>\n",
       "      <td>Toto</td>\n",
       "      <td>NaN</td>\n",
       "      <td>NaN</td>\n",
       "      <td>NaN</td>\n",
       "      <td>NaN</td>\n",
       "      <td>NaN</td>\n",
       "    </tr>\n",
       "    <tr>\n",
       "      <th>4</th>\n",
       "      <td>Competed in Olympic Games</td>\n",
       "      <td>Male</td>\n",
       "      <td>Henry Albert•Canet</td>\n",
       "      <td>Albert•Canet</td>\n",
       "      <td>17 April 1878 in Wandsworth, England (GBR)</td>\n",
       "      <td>25 July 1930 in Paris VIIe, Paris (FRA)</td>\n",
       "      <td>France</td>\n",
       "      <td>5</td>\n",
       "      <td>NaN</td>\n",
       "      <td>TCP, Paris (FRA)</td>\n",
       "      <td>NaN</td>\n",
       "      <td>NaN</td>\n",
       "      <td>NaN</td>\n",
       "      <td>NaN</td>\n",
       "      <td>NaN</td>\n",
       "      <td>NaN</td>\n",
       "    </tr>\n",
       "  </tbody>\n",
       "</table>\n",
       "</div>"
      ],
      "text/plain": [
       "                                       Roles   Sex  \\\n",
       "0                  Competed in Olympic Games  Male   \n",
       "1                  Competed in Olympic Games  Male   \n",
       "2  Competed in Olympic Games • Administrator  Male   \n",
       "3                  Competed in Olympic Games  Male   \n",
       "4                  Competed in Olympic Games  Male   \n",
       "\n",
       "                                           Full name              Used name  \\\n",
       "0  François Joseph Marie Antoine \"Jean-François\"•...  Jean-François•Blanchy   \n",
       "1                            Arnaud Benjamin•Boetsch         Arnaud•Boetsch   \n",
       "2                        Jean Laurent Robert•Borotra           Jean•Borotra   \n",
       "3               Jacques Marie Stanislas Jean•Brugnon        Jacques•Brugnon   \n",
       "4                                 Henry Albert•Canet           Albert•Canet   \n",
       "\n",
       "                                                Born  \\\n",
       "0        12 December 1886 in Bordeaux, Gironde (FRA)   \n",
       "1             1 April 1969 in Meulan, Yvelines (FRA)   \n",
       "2  13 August 1898 in Biarritz, Pyrénées-Atlantiqu...   \n",
       "3            11 May 1895 in Paris VIIIe, Paris (FRA)   \n",
       "4         17 April 1878 in Wandsworth, England (GBR)   \n",
       "\n",
       "                                                Died     NOC  athlete_id  \\\n",
       "0  2 October 1960 in Saint-Jean-de-Luz, Pyrénées-...  France           1   \n",
       "1                                                NaN  France           2   \n",
       "2  17 July 1994 in Arbonne, Pyrénées-Atlantiques ...  France           3   \n",
       "3              20 March 1978 in Monaco, Monaco (MON)  France           4   \n",
       "4            25 July 1930 in Paris VIIe, Paris (FRA)  France           5   \n",
       "\n",
       "     Measurements                         Affiliations  \\\n",
       "0             NaN                                  NaN   \n",
       "1  183 cm / 76 kg   Racing Club de France, Paris (FRA)   \n",
       "2  183 cm / 76 kg                     TCP, Paris (FRA)   \n",
       "3  168 cm / 64 kg  Sporting club de Paris, Paris (FRA)   \n",
       "4             NaN                     TCP, Paris (FRA)   \n",
       "\n",
       "                                Nick/petnames Title(s) Other names  \\\n",
       "0                                         NaN      NaN         NaN   \n",
       "1                                         NaN      NaN         NaN   \n",
       "2  Le Basque Bondissant (The Bounding Basque)      NaN         NaN   \n",
       "3                                        Toto      NaN         NaN   \n",
       "4                                         NaN      NaN         NaN   \n",
       "\n",
       "  Nationality Original name Name order  \n",
       "0         NaN           NaN        NaN  \n",
       "1         NaN           NaN        NaN  \n",
       "2         NaN           NaN        NaN  \n",
       "3         NaN           NaN        NaN  \n",
       "4         NaN           NaN        NaN  "
      ]
     },
     "execution_count": 2,
     "metadata": {},
     "output_type": "execute_result"
    }
   ],
   "source": [
    "athletes = pd.read_csv('/Users/varunmalani/Desktop/Athletes/olympics_athletes.csv')\n",
    "athletes.head()"
   ]
  },
  {
   "cell_type": "code",
   "execution_count": 3,
   "metadata": {
    "colab": {
     "base_uri": "https://localhost:8080/"
    },
    "id": "SSwGNv4WreWB",
    "outputId": "232bd7cd-94ab-405b-9110-5c3206a55dd3"
   },
   "outputs": [
    {
     "name": "stdout",
     "output_type": "stream",
     "text": [
      "<class 'pandas.core.frame.DataFrame'>\n",
      "RangeIndex: 145500 entries, 0 to 145499\n",
      "Data columns (total 16 columns):\n",
      " #   Column         Non-Null Count   Dtype \n",
      "---  ------         --------------   ----- \n",
      " 0   Roles          145500 non-null  object\n",
      " 1   Sex            145500 non-null  object\n",
      " 2   Full name      145500 non-null  object\n",
      " 3   Used name      145500 non-null  object\n",
      " 4   Born           143772 non-null  object\n",
      " 5   Died           34042 non-null   object\n",
      " 6   NOC            145499 non-null  object\n",
      " 7   athlete_id     145500 non-null  int64 \n",
      " 8   Measurements   107833 non-null  object\n",
      " 9   Affiliations   95832 non-null   object\n",
      " 10  Nick/petnames  9145 non-null    object\n",
      " 11  Title(s)       399 non-null     object\n",
      " 12  Other names    7167 non-null    object\n",
      " 13  Nationality    8259 non-null    object\n",
      " 14  Original name  30739 non-null   object\n",
      " 15  Name order     7844 non-null    object\n",
      "dtypes: int64(1), object(15)\n",
      "memory usage: 17.8+ MB\n"
     ]
    }
   ],
   "source": [
    "athletes.info()"
   ]
  },
  {
   "cell_type": "code",
   "execution_count": 4,
   "metadata": {
    "id": "rvBt6LzWr1MT"
   },
   "outputs": [],
   "source": [
    "# The columns that are not required are\n",
    "# 1. Full name\n",
    "# 2. Affiliations\n",
    "# 3. Nick/petnames\n",
    "# 4. Title(s)\n",
    "# 5. Other names\n",
    "# 6. Nationality\n",
    "# 7. Original name\n",
    "# 8. Name order"
   ]
  },
  {
   "cell_type": "code",
   "execution_count": 5,
   "metadata": {
    "id": "kc9YSATRtcMY"
   },
   "outputs": [],
   "source": [
    "athletes = athletes[['Roles', 'Sex', 'Used name', 'Born', 'Died', 'NOC', 'athlete_id', 'Measurements']]"
   ]
  },
  {
   "cell_type": "code",
   "execution_count": 6,
   "metadata": {
    "colab": {
     "base_uri": "https://localhost:8080/",
     "height": 145
    },
    "id": "-6NotUNuxGSN",
    "outputId": "325ce95d-e7b9-478c-bb4c-3e0cfa36dcac"
   },
   "outputs": [
    {
     "data": {
      "text/html": [
       "<div>\n",
       "<style scoped>\n",
       "    .dataframe tbody tr th:only-of-type {\n",
       "        vertical-align: middle;\n",
       "    }\n",
       "\n",
       "    .dataframe tbody tr th {\n",
       "        vertical-align: top;\n",
       "    }\n",
       "\n",
       "    .dataframe thead th {\n",
       "        text-align: right;\n",
       "    }\n",
       "</style>\n",
       "<table border=\"1\" class=\"dataframe\">\n",
       "  <thead>\n",
       "    <tr style=\"text-align: right;\">\n",
       "      <th></th>\n",
       "      <th>Roles</th>\n",
       "      <th>Sex</th>\n",
       "      <th>Used name</th>\n",
       "      <th>Born</th>\n",
       "      <th>Died</th>\n",
       "      <th>NOC</th>\n",
       "      <th>athlete_id</th>\n",
       "      <th>Measurements</th>\n",
       "    </tr>\n",
       "  </thead>\n",
       "  <tbody>\n",
       "    <tr>\n",
       "      <th>0</th>\n",
       "      <td>Competed in Olympic Games</td>\n",
       "      <td>Male</td>\n",
       "      <td>Jean-François•Blanchy</td>\n",
       "      <td>12 December 1886 in Bordeaux, Gironde (FRA)</td>\n",
       "      <td>2 October 1960 in Saint-Jean-de-Luz, Pyrénées-...</td>\n",
       "      <td>France</td>\n",
       "      <td>1</td>\n",
       "      <td>NaN</td>\n",
       "    </tr>\n",
       "    <tr>\n",
       "      <th>1</th>\n",
       "      <td>Competed in Olympic Games</td>\n",
       "      <td>Male</td>\n",
       "      <td>Arnaud•Boetsch</td>\n",
       "      <td>1 April 1969 in Meulan, Yvelines (FRA)</td>\n",
       "      <td>NaN</td>\n",
       "      <td>France</td>\n",
       "      <td>2</td>\n",
       "      <td>183 cm / 76 kg</td>\n",
       "    </tr>\n",
       "  </tbody>\n",
       "</table>\n",
       "</div>"
      ],
      "text/plain": [
       "                       Roles   Sex              Used name  \\\n",
       "0  Competed in Olympic Games  Male  Jean-François•Blanchy   \n",
       "1  Competed in Olympic Games  Male         Arnaud•Boetsch   \n",
       "\n",
       "                                          Born  \\\n",
       "0  12 December 1886 in Bordeaux, Gironde (FRA)   \n",
       "1       1 April 1969 in Meulan, Yvelines (FRA)   \n",
       "\n",
       "                                                Died     NOC  athlete_id  \\\n",
       "0  2 October 1960 in Saint-Jean-de-Luz, Pyrénées-...  France           1   \n",
       "1                                                NaN  France           2   \n",
       "\n",
       "     Measurements  \n",
       "0             NaN  \n",
       "1  183 cm / 76 kg  "
      ]
     },
     "execution_count": 6,
     "metadata": {},
     "output_type": "execute_result"
    }
   ],
   "source": [
    "athletes.head(2)"
   ]
  },
  {
   "cell_type": "code",
   "execution_count": 7,
   "metadata": {
    "colab": {
     "base_uri": "https://localhost:8080/"
    },
    "id": "3D2ubV8ZvYeu",
    "outputId": "762aa5ae-b066-4b00-853e-18aaf6cb0652"
   },
   "outputs": [
    {
     "data": {
      "text/plain": [
       "0    Jean-François Blanchy\n",
       "1           Arnaud Boetsch\n",
       "Name: Used name, dtype: object"
      ]
     },
     "execution_count": 7,
     "metadata": {},
     "output_type": "execute_result"
    }
   ],
   "source": [
    "# Cleaning the Used Name column by eliminating .\n",
    "athletes['Used name'].str.replace('•',' ').head(2)"
   ]
  },
  {
   "cell_type": "code",
   "execution_count": 8,
   "metadata": {
    "id": "lj5PE419xe6D"
   },
   "outputs": [],
   "source": [
    "athletes['Used name'] = athletes['Used name'].str.replace('•',' ')"
   ]
  },
  {
   "cell_type": "code",
   "execution_count": 9,
   "metadata": {
    "colab": {
     "base_uri": "https://localhost:8080/"
    },
    "id": "U1BhnVC-ygiV",
    "outputId": "9d90294d-dfc7-48b1-ed84-ded704f289ea"
   },
   "outputs": [
    {
     "data": {
      "text/plain": [
       "0    Jean-François Blanchy\n",
       "1           Arnaud Boetsch\n",
       "2             Jean Borotra\n",
       "3          Jacques Brugnon\n",
       "4             Albert Canet\n",
       "Name: Used name, dtype: object"
      ]
     },
     "execution_count": 9,
     "metadata": {},
     "output_type": "execute_result"
    }
   ],
   "source": [
    "athletes['Used name'].head(5)"
   ]
  },
  {
   "cell_type": "code",
   "execution_count": 10,
   "metadata": {
    "id": "6exy0j7py4cS"
   },
   "outputs": [],
   "source": [
    "# Renaming the Used name to Name\n",
    "athletes.rename(columns = {'Used name': 'Name'}, inplace = True)"
   ]
  },
  {
   "cell_type": "code",
   "execution_count": 11,
   "metadata": {
    "colab": {
     "base_uri": "https://localhost:8080/",
     "height": 145
    },
    "id": "9dnEs2uszEIo",
    "outputId": "5958b0f6-8c0d-459e-ef28-7ceb4a276125"
   },
   "outputs": [
    {
     "data": {
      "text/html": [
       "<div>\n",
       "<style scoped>\n",
       "    .dataframe tbody tr th:only-of-type {\n",
       "        vertical-align: middle;\n",
       "    }\n",
       "\n",
       "    .dataframe tbody tr th {\n",
       "        vertical-align: top;\n",
       "    }\n",
       "\n",
       "    .dataframe thead th {\n",
       "        text-align: right;\n",
       "    }\n",
       "</style>\n",
       "<table border=\"1\" class=\"dataframe\">\n",
       "  <thead>\n",
       "    <tr style=\"text-align: right;\">\n",
       "      <th></th>\n",
       "      <th>Roles</th>\n",
       "      <th>Sex</th>\n",
       "      <th>Name</th>\n",
       "      <th>Born</th>\n",
       "      <th>Died</th>\n",
       "      <th>NOC</th>\n",
       "      <th>athlete_id</th>\n",
       "      <th>Measurements</th>\n",
       "    </tr>\n",
       "  </thead>\n",
       "  <tbody>\n",
       "    <tr>\n",
       "      <th>0</th>\n",
       "      <td>Competed in Olympic Games</td>\n",
       "      <td>Male</td>\n",
       "      <td>Jean-François Blanchy</td>\n",
       "      <td>12 December 1886 in Bordeaux, Gironde (FRA)</td>\n",
       "      <td>2 October 1960 in Saint-Jean-de-Luz, Pyrénées-...</td>\n",
       "      <td>France</td>\n",
       "      <td>1</td>\n",
       "      <td>NaN</td>\n",
       "    </tr>\n",
       "    <tr>\n",
       "      <th>1</th>\n",
       "      <td>Competed in Olympic Games</td>\n",
       "      <td>Male</td>\n",
       "      <td>Arnaud Boetsch</td>\n",
       "      <td>1 April 1969 in Meulan, Yvelines (FRA)</td>\n",
       "      <td>NaN</td>\n",
       "      <td>France</td>\n",
       "      <td>2</td>\n",
       "      <td>183 cm / 76 kg</td>\n",
       "    </tr>\n",
       "  </tbody>\n",
       "</table>\n",
       "</div>"
      ],
      "text/plain": [
       "                       Roles   Sex                   Name  \\\n",
       "0  Competed in Olympic Games  Male  Jean-François Blanchy   \n",
       "1  Competed in Olympic Games  Male         Arnaud Boetsch   \n",
       "\n",
       "                                          Born  \\\n",
       "0  12 December 1886 in Bordeaux, Gironde (FRA)   \n",
       "1       1 April 1969 in Meulan, Yvelines (FRA)   \n",
       "\n",
       "                                                Died     NOC  athlete_id  \\\n",
       "0  2 October 1960 in Saint-Jean-de-Luz, Pyrénées-...  France           1   \n",
       "1                                                NaN  France           2   \n",
       "\n",
       "     Measurements  \n",
       "0             NaN  \n",
       "1  183 cm / 76 kg  "
      ]
     },
     "execution_count": 11,
     "metadata": {},
     "output_type": "execute_result"
    }
   ],
   "source": [
    "athletes.head(2)"
   ]
  },
  {
   "cell_type": "code",
   "execution_count": 12,
   "metadata": {
    "colab": {
     "base_uri": "https://localhost:8080/"
    },
    "id": "kIGLwspzzu99",
    "outputId": "082fff85-c393-4c54-b7a3-b78747875d66"
   },
   "outputs": [
    {
     "data": {
      "text/plain": [
       "Male      106325\n",
       "Female     39175\n",
       "Name: Sex, dtype: int64"
      ]
     },
     "execution_count": 12,
     "metadata": {},
     "output_type": "execute_result"
    }
   ],
   "source": [
    "# Checking for any NaN values\n",
    "athletes['Sex'].value_counts()"
   ]
  },
  {
   "cell_type": "code",
   "execution_count": 13,
   "metadata": {
    "colab": {
     "base_uri": "https://localhost:8080/"
    },
    "id": "xmN0463ez68_",
    "outputId": "be364c06-7473-4fdf-c3a6-cf589fc663e9"
   },
   "outputs": [
    {
     "data": {
      "text/plain": [
       "0    12 December 1886\n",
       "1        1 April 1969\n",
       "Name: Born, dtype: object"
      ]
     },
     "execution_count": 13,
     "metadata": {},
     "output_type": "execute_result"
    }
   ],
   "source": [
    "# Fetching the date from the Born column\n",
    "athletes['Born'].str.split('in').str[0].str.strip().head(2)"
   ]
  },
  {
   "cell_type": "code",
   "execution_count": 14,
   "metadata": {
    "colab": {
     "base_uri": "https://localhost:8080/"
    },
    "id": "4ATa8lPD29N6",
    "outputId": "b187c924-73be-47bb-b25f-b7129ca118e9"
   },
   "outputs": [
    {
     "data": {
      "text/plain": [
       "0    12 December 1886\n",
       "1        1 April 1969\n",
       "Name: Born Date, dtype: object"
      ]
     },
     "execution_count": 14,
     "metadata": {},
     "output_type": "execute_result"
    }
   ],
   "source": [
    "athletes['Born Date'] = athletes['Born'].str.split('in').str[0].str.strip()\n",
    "athletes['Born Date'].head(2)"
   ]
  },
  {
   "cell_type": "code",
   "execution_count": 15,
   "metadata": {
    "colab": {
     "base_uri": "https://localhost:8080/"
    },
    "id": "zaT9egB80ejf",
    "outputId": "5f73fd04-9787-41f3-bdbd-aa39d8b8b469"
   },
   "outputs": [
    {
     "data": {
      "text/plain": [
       "datetime.date"
      ]
     },
     "execution_count": 15,
     "metadata": {},
     "output_type": "execute_result"
    }
   ],
   "source": [
    "# errors='coerce' to handle any remaining issues\n",
    "athletes['Born Date'] = pd.to_datetime(athletes['Born Date'], errors='coerce')\n",
    "type(pd.to_datetime(athletes['Born Date']).dt.date[0])"
   ]
  },
  {
   "cell_type": "code",
   "execution_count": 16,
   "metadata": {
    "id": "XP5XSVxV425_"
   },
   "outputs": [],
   "source": [
    "# Converting the Born Date format from YYY-MM-DD to DD-MM-YYYY\n",
    "athletes['Born Date'] = athletes['Born Date'].dt.strftime('%d-%m-%Y')"
   ]
  },
  {
   "cell_type": "code",
   "execution_count": 17,
   "metadata": {
    "colab": {
     "base_uri": "https://localhost:8080/",
     "height": 196
    },
    "id": "fd-3lY9q2Lla",
    "outputId": "275515e4-976b-414f-d3a0-72521b64b6da"
   },
   "outputs": [
    {
     "data": {
      "text/html": [
       "<div>\n",
       "<style scoped>\n",
       "    .dataframe tbody tr th:only-of-type {\n",
       "        vertical-align: middle;\n",
       "    }\n",
       "\n",
       "    .dataframe tbody tr th {\n",
       "        vertical-align: top;\n",
       "    }\n",
       "\n",
       "    .dataframe thead th {\n",
       "        text-align: right;\n",
       "    }\n",
       "</style>\n",
       "<table border=\"1\" class=\"dataframe\">\n",
       "  <thead>\n",
       "    <tr style=\"text-align: right;\">\n",
       "      <th></th>\n",
       "      <th>Roles</th>\n",
       "      <th>Sex</th>\n",
       "      <th>Name</th>\n",
       "      <th>Born</th>\n",
       "      <th>Died</th>\n",
       "      <th>NOC</th>\n",
       "      <th>athlete_id</th>\n",
       "      <th>Measurements</th>\n",
       "      <th>Born Date</th>\n",
       "    </tr>\n",
       "  </thead>\n",
       "  <tbody>\n",
       "    <tr>\n",
       "      <th>0</th>\n",
       "      <td>Competed in Olympic Games</td>\n",
       "      <td>Male</td>\n",
       "      <td>Jean-François Blanchy</td>\n",
       "      <td>12 December 1886 in Bordeaux, Gironde (FRA)</td>\n",
       "      <td>2 October 1960 in Saint-Jean-de-Luz, Pyrénées-...</td>\n",
       "      <td>France</td>\n",
       "      <td>1</td>\n",
       "      <td>NaN</td>\n",
       "      <td>12-12-1886</td>\n",
       "    </tr>\n",
       "    <tr>\n",
       "      <th>1</th>\n",
       "      <td>Competed in Olympic Games</td>\n",
       "      <td>Male</td>\n",
       "      <td>Arnaud Boetsch</td>\n",
       "      <td>1 April 1969 in Meulan, Yvelines (FRA)</td>\n",
       "      <td>NaN</td>\n",
       "      <td>France</td>\n",
       "      <td>2</td>\n",
       "      <td>183 cm / 76 kg</td>\n",
       "      <td>01-04-1969</td>\n",
       "    </tr>\n",
       "  </tbody>\n",
       "</table>\n",
       "</div>"
      ],
      "text/plain": [
       "                       Roles   Sex                   Name  \\\n",
       "0  Competed in Olympic Games  Male  Jean-François Blanchy   \n",
       "1  Competed in Olympic Games  Male         Arnaud Boetsch   \n",
       "\n",
       "                                          Born  \\\n",
       "0  12 December 1886 in Bordeaux, Gironde (FRA)   \n",
       "1       1 April 1969 in Meulan, Yvelines (FRA)   \n",
       "\n",
       "                                                Died     NOC  athlete_id  \\\n",
       "0  2 October 1960 in Saint-Jean-de-Luz, Pyrénées-...  France           1   \n",
       "1                                                NaN  France           2   \n",
       "\n",
       "     Measurements   Born Date  \n",
       "0             NaN  12-12-1886  \n",
       "1  183 cm / 76 kg  01-04-1969  "
      ]
     },
     "execution_count": 17,
     "metadata": {},
     "output_type": "execute_result"
    }
   ],
   "source": [
    "athletes.head(2)"
   ]
  },
  {
   "cell_type": "code",
   "execution_count": 18,
   "metadata": {
    "colab": {
     "base_uri": "https://localhost:8080/",
     "height": 196
    },
    "id": "0pVOYD2h4sEz",
    "outputId": "01b58ef5-7ad7-4618-f22d-5fc8c4e6ac93"
   },
   "outputs": [
    {
     "data": {
      "text/html": [
       "<div>\n",
       "<style scoped>\n",
       "    .dataframe tbody tr th:only-of-type {\n",
       "        vertical-align: middle;\n",
       "    }\n",
       "\n",
       "    .dataframe tbody tr th {\n",
       "        vertical-align: top;\n",
       "    }\n",
       "\n",
       "    .dataframe thead th {\n",
       "        text-align: right;\n",
       "    }\n",
       "</style>\n",
       "<table border=\"1\" class=\"dataframe\">\n",
       "  <thead>\n",
       "    <tr style=\"text-align: right;\">\n",
       "      <th></th>\n",
       "      <th>Roles</th>\n",
       "      <th>Sex</th>\n",
       "      <th>Name</th>\n",
       "      <th>Born</th>\n",
       "      <th>Died</th>\n",
       "      <th>NOC</th>\n",
       "      <th>athlete_id</th>\n",
       "      <th>Measurements</th>\n",
       "      <th>Born Date</th>\n",
       "      <th>Born City</th>\n",
       "    </tr>\n",
       "  </thead>\n",
       "  <tbody>\n",
       "    <tr>\n",
       "      <th>0</th>\n",
       "      <td>Competed in Olympic Games</td>\n",
       "      <td>Male</td>\n",
       "      <td>Jean-François Blanchy</td>\n",
       "      <td>12 December 1886 in Bordeaux, Gironde (FRA)</td>\n",
       "      <td>2 October 1960 in Saint-Jean-de-Luz, Pyrénées-...</td>\n",
       "      <td>France</td>\n",
       "      <td>1</td>\n",
       "      <td>NaN</td>\n",
       "      <td>12-12-1886</td>\n",
       "      <td>Bordeaux</td>\n",
       "    </tr>\n",
       "    <tr>\n",
       "      <th>1</th>\n",
       "      <td>Competed in Olympic Games</td>\n",
       "      <td>Male</td>\n",
       "      <td>Arnaud Boetsch</td>\n",
       "      <td>1 April 1969 in Meulan, Yvelines (FRA)</td>\n",
       "      <td>NaN</td>\n",
       "      <td>France</td>\n",
       "      <td>2</td>\n",
       "      <td>183 cm / 76 kg</td>\n",
       "      <td>01-04-1969</td>\n",
       "      <td>Meulan</td>\n",
       "    </tr>\n",
       "  </tbody>\n",
       "</table>\n",
       "</div>"
      ],
      "text/plain": [
       "                       Roles   Sex                   Name  \\\n",
       "0  Competed in Olympic Games  Male  Jean-François Blanchy   \n",
       "1  Competed in Olympic Games  Male         Arnaud Boetsch   \n",
       "\n",
       "                                          Born  \\\n",
       "0  12 December 1886 in Bordeaux, Gironde (FRA)   \n",
       "1       1 April 1969 in Meulan, Yvelines (FRA)   \n",
       "\n",
       "                                                Died     NOC  athlete_id  \\\n",
       "0  2 October 1960 in Saint-Jean-de-Luz, Pyrénées-...  France           1   \n",
       "1                                                NaN  France           2   \n",
       "\n",
       "     Measurements   Born Date Born City  \n",
       "0             NaN  12-12-1886  Bordeaux  \n",
       "1  183 cm / 76 kg  01-04-1969    Meulan  "
      ]
     },
     "execution_count": 18,
     "metadata": {},
     "output_type": "execute_result"
    }
   ],
   "source": [
    "athletes['Born City'] = athletes['Born'].str.split('in').str[1].str.split(',').str[0].str.strip()\n",
    "athletes.head(2)"
   ]
  },
  {
   "cell_type": "code",
   "execution_count": 19,
   "metadata": {
    "colab": {
     "base_uri": "https://localhost:8080/"
    },
    "id": "22hpfBwA5Q1_",
    "outputId": "71dc0510-bca5-4dec-c2ee-762b7c42a84c"
   },
   "outputs": [
    {
     "data": {
      "text/plain": [
       "0    FRA\n",
       "1    NaN\n",
       "2    FRA\n",
       "3    FRA\n",
       "4    GBR\n",
       "Name: Born Country, dtype: object"
      ]
     },
     "execution_count": 19,
     "metadata": {},
     "output_type": "execute_result"
    }
   ],
   "source": [
    "athletes['Born Country'] = athletes['Born'].str.split('in').str[1].str.split(',').str[1].str.split('(').str[1].str.split(')').str[0]\n",
    "athletes['Born Country'].head()"
   ]
  },
  {
   "cell_type": "code",
   "execution_count": 20,
   "metadata": {
    "colab": {
     "base_uri": "https://localhost:8080/"
    },
    "id": "yQHC5A2i5pNa",
    "outputId": "a82b5bd0-3d1b-4b0f-9d65-0cc711f220c6"
   },
   "outputs": [
    {
     "data": {
      "text/html": [
       "<div>\n",
       "<style scoped>\n",
       "    .dataframe tbody tr th:only-of-type {\n",
       "        vertical-align: middle;\n",
       "    }\n",
       "\n",
       "    .dataframe tbody tr th {\n",
       "        vertical-align: top;\n",
       "    }\n",
       "\n",
       "    .dataframe thead th {\n",
       "        text-align: right;\n",
       "    }\n",
       "</style>\n",
       "<table border=\"1\" class=\"dataframe\">\n",
       "  <thead>\n",
       "    <tr style=\"text-align: right;\">\n",
       "      <th></th>\n",
       "      <th>Roles</th>\n",
       "      <th>Sex</th>\n",
       "      <th>Name</th>\n",
       "      <th>Born</th>\n",
       "      <th>Died</th>\n",
       "      <th>NOC</th>\n",
       "      <th>athlete_id</th>\n",
       "      <th>Measurements</th>\n",
       "      <th>Born Date</th>\n",
       "      <th>Born City</th>\n",
       "      <th>Born Country</th>\n",
       "    </tr>\n",
       "  </thead>\n",
       "  <tbody>\n",
       "    <tr>\n",
       "      <th>0</th>\n",
       "      <td>Competed in Olympic Games</td>\n",
       "      <td>Male</td>\n",
       "      <td>Jean-François Blanchy</td>\n",
       "      <td>12 December 1886 in Bordeaux, Gironde (FRA)</td>\n",
       "      <td>2 October 1960 in Saint-Jean-de-Luz, Pyrénées-...</td>\n",
       "      <td>France</td>\n",
       "      <td>1</td>\n",
       "      <td>NaN</td>\n",
       "      <td>12-12-1886</td>\n",
       "      <td>Bordeaux</td>\n",
       "      <td>FRA</td>\n",
       "    </tr>\n",
       "    <tr>\n",
       "      <th>1</th>\n",
       "      <td>Competed in Olympic Games</td>\n",
       "      <td>Male</td>\n",
       "      <td>Arnaud Boetsch</td>\n",
       "      <td>1 April 1969 in Meulan, Yvelines (FRA)</td>\n",
       "      <td>NaN</td>\n",
       "      <td>France</td>\n",
       "      <td>2</td>\n",
       "      <td>183 cm / 76 kg</td>\n",
       "      <td>01-04-1969</td>\n",
       "      <td>Meulan</td>\n",
       "      <td>NaN</td>\n",
       "    </tr>\n",
       "    <tr>\n",
       "      <th>2</th>\n",
       "      <td>Competed in Olympic Games • Administrator</td>\n",
       "      <td>Male</td>\n",
       "      <td>Jean Borotra</td>\n",
       "      <td>13 August 1898 in Biarritz, Pyrénées-Atlantiqu...</td>\n",
       "      <td>17 July 1994 in Arbonne, Pyrénées-Atlantiques ...</td>\n",
       "      <td>France</td>\n",
       "      <td>3</td>\n",
       "      <td>183 cm / 76 kg</td>\n",
       "      <td>13-08-1898</td>\n",
       "      <td>Biarritz</td>\n",
       "      <td>FRA</td>\n",
       "    </tr>\n",
       "    <tr>\n",
       "      <th>3</th>\n",
       "      <td>Competed in Olympic Games</td>\n",
       "      <td>Male</td>\n",
       "      <td>Jacques Brugnon</td>\n",
       "      <td>11 May 1895 in Paris VIIIe, Paris (FRA)</td>\n",
       "      <td>20 March 1978 in Monaco, Monaco (MON)</td>\n",
       "      <td>France</td>\n",
       "      <td>4</td>\n",
       "      <td>168 cm / 64 kg</td>\n",
       "      <td>11-05-1895</td>\n",
       "      <td>Paris VIIIe</td>\n",
       "      <td>FRA</td>\n",
       "    </tr>\n",
       "    <tr>\n",
       "      <th>4</th>\n",
       "      <td>Competed in Olympic Games</td>\n",
       "      <td>Male</td>\n",
       "      <td>Albert Canet</td>\n",
       "      <td>17 April 1878 in Wandsworth, England (GBR)</td>\n",
       "      <td>25 July 1930 in Paris VIIe, Paris (FRA)</td>\n",
       "      <td>France</td>\n",
       "      <td>5</td>\n",
       "      <td>NaN</td>\n",
       "      <td>17-04-1878</td>\n",
       "      <td>Wandsworth</td>\n",
       "      <td>GBR</td>\n",
       "    </tr>\n",
       "  </tbody>\n",
       "</table>\n",
       "</div>"
      ],
      "text/plain": [
       "                                       Roles   Sex                   Name  \\\n",
       "0                  Competed in Olympic Games  Male  Jean-François Blanchy   \n",
       "1                  Competed in Olympic Games  Male         Arnaud Boetsch   \n",
       "2  Competed in Olympic Games • Administrator  Male           Jean Borotra   \n",
       "3                  Competed in Olympic Games  Male        Jacques Brugnon   \n",
       "4                  Competed in Olympic Games  Male           Albert Canet   \n",
       "\n",
       "                                                Born  \\\n",
       "0        12 December 1886 in Bordeaux, Gironde (FRA)   \n",
       "1             1 April 1969 in Meulan, Yvelines (FRA)   \n",
       "2  13 August 1898 in Biarritz, Pyrénées-Atlantiqu...   \n",
       "3            11 May 1895 in Paris VIIIe, Paris (FRA)   \n",
       "4         17 April 1878 in Wandsworth, England (GBR)   \n",
       "\n",
       "                                                Died     NOC  athlete_id  \\\n",
       "0  2 October 1960 in Saint-Jean-de-Luz, Pyrénées-...  France           1   \n",
       "1                                                NaN  France           2   \n",
       "2  17 July 1994 in Arbonne, Pyrénées-Atlantiques ...  France           3   \n",
       "3              20 March 1978 in Monaco, Monaco (MON)  France           4   \n",
       "4            25 July 1930 in Paris VIIe, Paris (FRA)  France           5   \n",
       "\n",
       "     Measurements   Born Date    Born City Born Country  \n",
       "0             NaN  12-12-1886     Bordeaux          FRA  \n",
       "1  183 cm / 76 kg  01-04-1969       Meulan          NaN  \n",
       "2  183 cm / 76 kg  13-08-1898     Biarritz          FRA  \n",
       "3  168 cm / 64 kg  11-05-1895  Paris VIIIe          FRA  \n",
       "4             NaN  17-04-1878   Wandsworth          GBR  "
      ]
     },
     "execution_count": 20,
     "metadata": {},
     "output_type": "execute_result"
    }
   ],
   "source": [
    "athletes.head(5)"
   ]
  },
  {
   "cell_type": "code",
   "execution_count": 21,
   "metadata": {
    "id": "nLhdT3TW6RjJ"
   },
   "outputs": [],
   "source": [
    "athletes['Died Date'] = athletes['Died'].str.split('in').str[0]\n",
    "athletes['Died Date'] = pd.to_datetime(athletes['Died Date'], errors='coerce').dt.strftime('%d-%m-%Y')"
   ]
  },
  {
   "cell_type": "code",
   "execution_count": 22,
   "metadata": {},
   "outputs": [
    {
     "data": {
      "text/html": [
       "<div>\n",
       "<style scoped>\n",
       "    .dataframe tbody tr th:only-of-type {\n",
       "        vertical-align: middle;\n",
       "    }\n",
       "\n",
       "    .dataframe tbody tr th {\n",
       "        vertical-align: top;\n",
       "    }\n",
       "\n",
       "    .dataframe thead th {\n",
       "        text-align: right;\n",
       "    }\n",
       "</style>\n",
       "<table border=\"1\" class=\"dataframe\">\n",
       "  <thead>\n",
       "    <tr style=\"text-align: right;\">\n",
       "      <th></th>\n",
       "      <th>Roles</th>\n",
       "      <th>Sex</th>\n",
       "      <th>Name</th>\n",
       "      <th>Born</th>\n",
       "      <th>Died</th>\n",
       "      <th>NOC</th>\n",
       "      <th>athlete_id</th>\n",
       "      <th>Measurements</th>\n",
       "      <th>Born Date</th>\n",
       "      <th>Born City</th>\n",
       "      <th>Born Country</th>\n",
       "      <th>Died Date</th>\n",
       "    </tr>\n",
       "  </thead>\n",
       "  <tbody>\n",
       "    <tr>\n",
       "      <th>0</th>\n",
       "      <td>Competed in Olympic Games</td>\n",
       "      <td>Male</td>\n",
       "      <td>Jean-François Blanchy</td>\n",
       "      <td>12 December 1886 in Bordeaux, Gironde (FRA)</td>\n",
       "      <td>2 October 1960 in Saint-Jean-de-Luz, Pyrénées-...</td>\n",
       "      <td>France</td>\n",
       "      <td>1</td>\n",
       "      <td>NaN</td>\n",
       "      <td>12-12-1886</td>\n",
       "      <td>Bordeaux</td>\n",
       "      <td>FRA</td>\n",
       "      <td>02-10-1960</td>\n",
       "    </tr>\n",
       "    <tr>\n",
       "      <th>1</th>\n",
       "      <td>Competed in Olympic Games</td>\n",
       "      <td>Male</td>\n",
       "      <td>Arnaud Boetsch</td>\n",
       "      <td>1 April 1969 in Meulan, Yvelines (FRA)</td>\n",
       "      <td>NaN</td>\n",
       "      <td>France</td>\n",
       "      <td>2</td>\n",
       "      <td>183 cm / 76 kg</td>\n",
       "      <td>01-04-1969</td>\n",
       "      <td>Meulan</td>\n",
       "      <td>NaN</td>\n",
       "      <td>NaN</td>\n",
       "    </tr>\n",
       "  </tbody>\n",
       "</table>\n",
       "</div>"
      ],
      "text/plain": [
       "                       Roles   Sex                   Name  \\\n",
       "0  Competed in Olympic Games  Male  Jean-François Blanchy   \n",
       "1  Competed in Olympic Games  Male         Arnaud Boetsch   \n",
       "\n",
       "                                          Born  \\\n",
       "0  12 December 1886 in Bordeaux, Gironde (FRA)   \n",
       "1       1 April 1969 in Meulan, Yvelines (FRA)   \n",
       "\n",
       "                                                Died     NOC  athlete_id  \\\n",
       "0  2 October 1960 in Saint-Jean-de-Luz, Pyrénées-...  France           1   \n",
       "1                                                NaN  France           2   \n",
       "\n",
       "     Measurements   Born Date Born City Born Country   Died Date  \n",
       "0             NaN  12-12-1886  Bordeaux          FRA  02-10-1960  \n",
       "1  183 cm / 76 kg  01-04-1969    Meulan          NaN         NaN  "
      ]
     },
     "execution_count": 22,
     "metadata": {},
     "output_type": "execute_result"
    }
   ],
   "source": [
    "athletes.head(2)"
   ]
  },
  {
   "cell_type": "code",
   "execution_count": 23,
   "metadata": {},
   "outputs": [],
   "source": [
    "# Now splitting the Measurements column on the basis of height\n",
    "athletes_height = []\n",
    "\n",
    "for i in range(len(athletes['Measurements'])):\n",
    "    if ('kg' in str(athletes['Measurements'][i]).split('cm')[0]):\n",
    "        athletes_height.append(float(np.nan))\n",
    "    else:\n",
    "        athletes_height.append(float(str(athletes['Measurements'][i]).split('cm')[0].strip()))"
   ]
  },
  {
   "cell_type": "code",
   "execution_count": 24,
   "metadata": {},
   "outputs": [],
   "source": [
    "athletes['Height'] = athletes_height"
   ]
  },
  {
   "cell_type": "code",
   "execution_count": 25,
   "metadata": {},
   "outputs": [],
   "source": [
    "# Now splitting the Measurements column on the basis of weight\n",
    "athletes_weight = []\n",
    "\n",
    "for i in range(len(athletes['Measurements'])):\n",
    "    if (len(str(athletes['Measurements'].iloc[165]).split('/'))) == 2:\n",
    "        athletes_weight.append(float(str(athletes['Measurements'].iloc[165]).split('/')[1].split('kg')[0].strip()))\n",
    "    else:\n",
    "        athletes_weight.append(float(str(athletes['Measurements'].iloc[165]).split('kg')[0].strip()))"
   ]
  },
  {
   "cell_type": "code",
   "execution_count": 26,
   "metadata": {},
   "outputs": [],
   "source": [
    "athletes['Weight'] = athletes_weight"
   ]
  },
  {
   "cell_type": "code",
   "execution_count": 27,
   "metadata": {},
   "outputs": [
    {
     "data": {
      "text/plain": [
       "Roles           Competed in Olympic Games\n",
       "Sex                                Female\n",
       "Name                       Patricia Offel\n",
       "Born                     19 December 1971\n",
       "Died                                  NaN\n",
       "NOC                                 Ghana\n",
       "athlete_id                            166\n",
       "Measurements                       120 kg\n",
       "Born Date                      19-12-1971\n",
       "Born City                             NaN\n",
       "Born Country                          NaN\n",
       "Died Date                             NaN\n",
       "Height                                NaN\n",
       "Weight                              120.0\n",
       "Name: 165, dtype: object"
      ]
     },
     "execution_count": 27,
     "metadata": {},
     "output_type": "execute_result"
    }
   ],
   "source": [
    "# We can verify that the index position 165 had no height and had a weight of 120 kg\n",
    "athletes.iloc[165]"
   ]
  },
  {
   "cell_type": "code",
   "execution_count": 28,
   "metadata": {},
   "outputs": [],
   "source": [
    "# Dropping all those columns that are not required\n",
    "athletes.drop(columns=['Born', 'Died', 'Measurements', 'NOC', 'Roles'], inplace = True)"
   ]
  },
  {
   "cell_type": "code",
   "execution_count": 29,
   "metadata": {},
   "outputs": [
    {
     "data": {
      "text/html": [
       "<div>\n",
       "<style scoped>\n",
       "    .dataframe tbody tr th:only-of-type {\n",
       "        vertical-align: middle;\n",
       "    }\n",
       "\n",
       "    .dataframe tbody tr th {\n",
       "        vertical-align: top;\n",
       "    }\n",
       "\n",
       "    .dataframe thead th {\n",
       "        text-align: right;\n",
       "    }\n",
       "</style>\n",
       "<table border=\"1\" class=\"dataframe\">\n",
       "  <thead>\n",
       "    <tr style=\"text-align: right;\">\n",
       "      <th></th>\n",
       "      <th>Sex</th>\n",
       "      <th>Name</th>\n",
       "      <th>athlete_id</th>\n",
       "      <th>Born Date</th>\n",
       "      <th>Born City</th>\n",
       "      <th>Born Country</th>\n",
       "      <th>Died Date</th>\n",
       "      <th>Height</th>\n",
       "      <th>Weight</th>\n",
       "    </tr>\n",
       "  </thead>\n",
       "  <tbody>\n",
       "    <tr>\n",
       "      <th>0</th>\n",
       "      <td>Male</td>\n",
       "      <td>Jean-François Blanchy</td>\n",
       "      <td>1</td>\n",
       "      <td>12-12-1886</td>\n",
       "      <td>Bordeaux</td>\n",
       "      <td>FRA</td>\n",
       "      <td>02-10-1960</td>\n",
       "      <td>NaN</td>\n",
       "      <td>120.0</td>\n",
       "    </tr>\n",
       "    <tr>\n",
       "      <th>1</th>\n",
       "      <td>Male</td>\n",
       "      <td>Arnaud Boetsch</td>\n",
       "      <td>2</td>\n",
       "      <td>01-04-1969</td>\n",
       "      <td>Meulan</td>\n",
       "      <td>NaN</td>\n",
       "      <td>NaN</td>\n",
       "      <td>183.0</td>\n",
       "      <td>120.0</td>\n",
       "    </tr>\n",
       "    <tr>\n",
       "      <th>2</th>\n",
       "      <td>Male</td>\n",
       "      <td>Jean Borotra</td>\n",
       "      <td>3</td>\n",
       "      <td>13-08-1898</td>\n",
       "      <td>Biarritz</td>\n",
       "      <td>FRA</td>\n",
       "      <td>17-07-1994</td>\n",
       "      <td>183.0</td>\n",
       "      <td>120.0</td>\n",
       "    </tr>\n",
       "    <tr>\n",
       "      <th>3</th>\n",
       "      <td>Male</td>\n",
       "      <td>Jacques Brugnon</td>\n",
       "      <td>4</td>\n",
       "      <td>11-05-1895</td>\n",
       "      <td>Paris VIIIe</td>\n",
       "      <td>FRA</td>\n",
       "      <td>20-03-1978</td>\n",
       "      <td>168.0</td>\n",
       "      <td>120.0</td>\n",
       "    </tr>\n",
       "    <tr>\n",
       "      <th>4</th>\n",
       "      <td>Male</td>\n",
       "      <td>Albert Canet</td>\n",
       "      <td>5</td>\n",
       "      <td>17-04-1878</td>\n",
       "      <td>Wandsworth</td>\n",
       "      <td>GBR</td>\n",
       "      <td>25-07-1930</td>\n",
       "      <td>NaN</td>\n",
       "      <td>120.0</td>\n",
       "    </tr>\n",
       "  </tbody>\n",
       "</table>\n",
       "</div>"
      ],
      "text/plain": [
       "    Sex                   Name  athlete_id   Born Date    Born City  \\\n",
       "0  Male  Jean-François Blanchy           1  12-12-1886     Bordeaux   \n",
       "1  Male         Arnaud Boetsch           2  01-04-1969       Meulan   \n",
       "2  Male           Jean Borotra           3  13-08-1898     Biarritz   \n",
       "3  Male        Jacques Brugnon           4  11-05-1895  Paris VIIIe   \n",
       "4  Male           Albert Canet           5  17-04-1878   Wandsworth   \n",
       "\n",
       "  Born Country   Died Date  Height  Weight  \n",
       "0          FRA  02-10-1960     NaN   120.0  \n",
       "1          NaN         NaN   183.0   120.0  \n",
       "2          FRA  17-07-1994   183.0   120.0  \n",
       "3          FRA  20-03-1978   168.0   120.0  \n",
       "4          GBR  25-07-1930     NaN   120.0  "
      ]
     },
     "execution_count": 29,
     "metadata": {},
     "output_type": "execute_result"
    }
   ],
   "source": [
    "athletes.head(5)"
   ]
  }
 ],
 "metadata": {
  "colab": {
   "provenance": []
  },
  "kernelspec": {
   "display_name": "Python 3",
   "language": "python",
   "name": "python3"
  },
  "language_info": {
   "codemirror_mode": {
    "name": "ipython",
    "version": 3
   },
   "file_extension": ".py",
   "mimetype": "text/x-python",
   "name": "python",
   "nbconvert_exporter": "python",
   "pygments_lexer": "ipython3",
   "version": "3.9.19"
  }
 },
 "nbformat": 4,
 "nbformat_minor": 4
}
